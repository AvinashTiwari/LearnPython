{
 "cells": [
  {
   "cell_type": "code",
   "execution_count": 1,
   "metadata": {},
   "outputs": [
    {
     "name": "stdout",
     "output_type": "stream",
     "text": [
      "Welcome to the Letter Counter App\n",
      "\n",
      "What is your name: Avinash\n",
      "Hello, Avinash!\n",
      "I will count the number of times that a specific letter occurs in a message.\n",
      "\n",
      "Please enter a message: Hello World\n",
      "Which letter would you like to count the occurrences of: o\n",
      "\n",
      "Avinash, your message has 2 o's in it.\n"
     ]
    }
   ],
   "source": [
    "print(\"Welcome to the Letter Counter App\")\n",
    "\n",
    "#Get user input.\n",
    "name = input(\"\\nWhat is your name: \").title().strip()\n",
    "print(\"Hello, \" + name + \"!\")\n",
    "\n",
    "print(\"I will count the number of times that a specific letter occurs in a message.\")\n",
    "message = input(\"\\nPlease enter a message: \")\n",
    "letter = input(\"Which letter would you like to count the occurrences of: \")\n",
    "\n",
    "#Standardize to lower case.\n",
    "message = message.lower()\n",
    "letter = letter.lower()\n",
    "\n",
    "#Get the count and display results.\n",
    "letter_count = message.count(letter)\n",
    "print(\"\\n\" + name + \", your message has \" + str(letter_count) + \" \" + letter + \"'s in it.\")"
   ]
  },
  {
   "cell_type": "code",
   "execution_count": null,
   "metadata": {},
   "outputs": [],
   "source": []
  }
 ],
 "metadata": {
  "kernelspec": {
   "display_name": "Python 3",
   "language": "python",
   "name": "python3"
  },
  "language_info": {
   "codemirror_mode": {
    "name": "ipython",
    "version": 3
   },
   "file_extension": ".py",
   "mimetype": "text/x-python",
   "name": "python",
   "nbconvert_exporter": "python",
   "pygments_lexer": "ipython3",
   "version": "3.7.3"
  }
 },
 "nbformat": 4,
 "nbformat_minor": 4
}
