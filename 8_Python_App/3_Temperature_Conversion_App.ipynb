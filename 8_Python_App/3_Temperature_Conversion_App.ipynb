{
 "cells": [
  {
   "cell_type": "code",
   "execution_count": 1,
   "metadata": {},
   "outputs": [
    {
     "name": "stdout",
     "output_type": "stream",
     "text": [
      "Welcome to the Temperature Conversion App\n"
     ]
    },
    {
     "name": "stdin",
     "output_type": "stream",
     "text": [
      "\n",
      "What is the given temperature in degrees Fahrenheit:  75\n"
     ]
    },
    {
     "name": "stdout",
     "output_type": "stream",
     "text": [
      "\n",
      "Degrees Fahrenheit:\t75.0\n",
      "Degrees Celsius:\t23.8889\n",
      "Degrees Kelvin:\t\t297.0389\n"
     ]
    }
   ],
   "source": [
    "#Basic Data Types Challenge 3:  Temperature Conversion App\n",
    "\n",
    "print(\"Welcome to the Temperature Conversion App\")\n",
    "\n",
    "#Gather user input\n",
    "temp_f = float(input(\"\\nWhat is the given temperature in degrees Fahrenheit: \"))\n",
    "\n",
    "#Convert temps\n",
    "temp_c = (5/9)*(temp_f - 32)\n",
    "temp_k = temp_c + 273.15\n",
    "\n",
    "#Round temps\n",
    "temp_f = round(temp_f, 4)\n",
    "temp_c = round(temp_c, 4)\n",
    "temp_k = round(temp_k, 4)\n",
    "\n",
    "#Summary table\n",
    "print(\"\\nDegrees Fahrenheit:\\t\" + str(temp_f))\n",
    "print(\"Degrees Celsius:\\t\" + str(temp_c))\n",
    "print(\"Degrees Kelvin:\\t\\t\" + str(temp_k))\n"
   ]
  },
  {
   "cell_type": "code",
   "execution_count": null,
   "metadata": {},
   "outputs": [],
   "source": []
  }
 ],
 "metadata": {
  "kernelspec": {
   "display_name": "Python 3",
   "language": "python",
   "name": "python3"
  },
  "language_info": {
   "codemirror_mode": {
    "name": "ipython",
    "version": 3
   },
   "file_extension": ".py",
   "mimetype": "text/x-python",
   "name": "python",
   "nbconvert_exporter": "python",
   "pygments_lexer": "ipython3",
   "version": "3.7.3"
  }
 },
 "nbformat": 4,
 "nbformat_minor": 4
}
