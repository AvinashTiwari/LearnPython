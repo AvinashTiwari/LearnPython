{
 "cells": [
  {
   "cell_type": "code",
   "execution_count": 1,
   "metadata": {},
   "outputs": [
    {
     "name": "stdout",
     "output_type": "stream",
     "text": [
      "\t\tSummary Table\n",
      "\n",
      "The variable num_strings is a <class 'list'>.\n",
      "It contains the elements: ['15', '100', '55', '42']\n",
      "The element 15 is a <class 'str'>.\n",
      "\n",
      "The variable num_ints is a <class 'list'>.\n",
      "It contains the elements: [15, 100, 55, 42]\n",
      "The element 15 is a <class 'int'>.\n",
      "\n",
      "The variable num_floats is a <class 'list'>.\n",
      "It contains the elements: [2.2, 5.0, 1.245, 0.142857]\n",
      "The element 2.2 is a <class 'float'>.\n",
      "\n",
      "The variable num_lists is a <class 'list'>.\n",
      "It contains the elements: [[1, 2, 3], [4, 5, 6], [7, 8, 9]]\n",
      "The element [1, 2, 3] is a <class 'list'>.\n",
      "\n",
      "Now sorting num_strings and num_ints...\n",
      "Sorted num_strings: ['100', '15', '42', '55']\n",
      "Sorted num_ints: [15, 42, 55, 100]\n",
      "\n",
      "Strings are sorted alphabetically while integers are sorted numerically!!!\n"
     ]
    }
   ],
   "source": [
    "#Lists Challenge 7:  Different Types of Lists Program\n",
    "\n",
    "#Defining my lists\n",
    "num_strings = ['15', '100', '55', '42']\n",
    "num_ints = [15, 100, 55, 42]\n",
    "num_floats = [2.2, 5.0, 1.245, 0.142857]\n",
    "num_lists = [[1,2,3], [4,5,6], [7,8,9]]\n",
    "\n",
    "#Summary of each list\n",
    "print(\"\\t\\tSummary Table\")\n",
    "\n",
    "print(\"\\nThe variable num_strings is a \" + str(type(num_strings)) + \".\")\n",
    "print(\"It contains the elements: \" + str(num_strings))\n",
    "print(\"The element \" + num_strings[0] + \" is a \" + str(type(num_strings[0])) + \".\")\n",
    "\n",
    "print(\"\\nThe variable num_ints is a \" + str(type(num_ints)) + \".\")\n",
    "print(\"It contains the elements: \" + str(num_ints))\n",
    "print(\"The element \" + str(num_ints[0]) + \" is a \" + str(type(num_ints[0])) + \".\")\n",
    "\n",
    "print(\"\\nThe variable num_floats is a \" + str(type(num_floats)) + \".\")\n",
    "print(\"It contains the elements: \" + str(num_floats))\n",
    "print(\"The element \" + str(num_floats[0]) + \" is a \" + str(type(num_floats[0])) + \".\")\n",
    "\n",
    "print(\"\\nThe variable num_lists is a \" + str(type(num_lists)) + \".\")\n",
    "print(\"It contains the elements: \" + str(num_lists))\n",
    "print(\"The element \" + str(num_lists[0]) + \" is a \" + str(type(num_lists[0])) + \".\")\n",
    "\n",
    "#Sorting the lists\n",
    "num_strings.sort()\n",
    "num_ints.sort()\n",
    "\n",
    "print(\"\\nNow sorting num_strings and num_ints...\")\n",
    "print(\"Sorted num_strings: \" + str(num_strings))\n",
    "print(\"Sorted num_ints: \" + str(num_ints))\n",
    "print(\"\\nStrings are sorted alphabetically while integers are sorted numerically!!!\")\n"
   ]
  },
  {
   "cell_type": "code",
   "execution_count": null,
   "metadata": {},
   "outputs": [],
   "source": []
  }
 ],
 "metadata": {
  "kernelspec": {
   "display_name": "Python 3",
   "language": "python",
   "name": "python3"
  },
  "language_info": {
   "codemirror_mode": {
    "name": "ipython",
    "version": 3
   },
   "file_extension": ".py",
   "mimetype": "text/x-python",
   "name": "python",
   "nbconvert_exporter": "python",
   "pygments_lexer": "ipython3",
   "version": "3.7.3"
  }
 },
 "nbformat": 4,
 "nbformat_minor": 4
}
