{
 "cells": [
  {
   "cell_type": "code",
   "execution_count": 1,
   "metadata": {},
   "outputs": [
    {
     "name": "stdout",
     "output_type": "stream",
     "text": [
      "Welcome to the Basketball Roster Program\n"
     ]
    },
    {
     "name": "stdin",
     "output_type": "stream",
     "text": [
      "\n",
      "Who is your point guard:  1\n",
      "Who is your shooting guard:  2\n",
      "Who is your small forward:  1\n",
      "Who is your power forward:  2\n",
      "Who is your center:  1\n"
     ]
    },
    {
     "name": "stdout",
     "output_type": "stream",
     "text": [
      "\n",
      "\tYour starting 5 for the upcoming basketball season\n",
      "\t\tPoint Guard:\t\t1\n",
      "\t\tShooting Guard:\t\t2\n",
      "\t\tSmall Forward:\t\t1\n",
      "\t\tPower Forward:\t\t2\n",
      "\t\tCenter:\t\t\t1\n",
      "\n",
      "Oh no, 1 is injured.\n",
      "Your roster only has 4 players.\n"
     ]
    },
    {
     "name": "stdin",
     "output_type": "stream",
     "text": [
      "Who will take 1's spot:  2\n"
     ]
    },
    {
     "name": "stdout",
     "output_type": "stream",
     "text": [
      "\n",
      "\tYour starting 5 for the upcoming basketball season\n",
      "\t\tPoint Guard:\t\t1\n",
      "\t\tShooting Guard:\t\t2\n",
      "\t\tSmall Forward:\t\t2\n",
      "\t\tPower Forward:\t\t2\n",
      "\t\tCenter:\t\t\t1\n",
      "\n",
      "Good luck 2 you will do great!\n",
      "Your roster now has 5 players.\n"
     ]
    }
   ],
   "source": [
    "#Lists Challenge 9:  Basketball Roster Program\n",
    "\n",
    "print(\"Welcome to the Basketball Roster Program\")\n",
    "\n",
    "#Get user input and define our roster\n",
    "roster = []\n",
    "player = input(\"\\nWho is your point guard: \").title()\n",
    "roster.append(player)\n",
    "player = input(\"Who is your shooting guard: \").title()\n",
    "roster.append(player)\n",
    "player = input(\"Who is your small forward: \").title()\n",
    "roster.append(player)\n",
    "player = input(\"Who is your power forward: \").title()\n",
    "roster.append(player)\n",
    "player = input(\"Who is your center: \").title()\n",
    "roster.append(player)\n",
    "\n",
    "#Display roster\n",
    "print(\"\\n\\tYour starting 5 for the upcoming basketball season\")\n",
    "print(\"\\t\\tPoint Guard:\\t\\t\" + roster[0])\n",
    "print(\"\\t\\tShooting Guard:\\t\\t\" + roster[1])\n",
    "print(\"\\t\\tSmall Forward:\\t\\t\" + roster[2])\n",
    "print(\"\\t\\tPower Forward:\\t\\t\" + roster[3])\n",
    "print(\"\\t\\tCenter:\\t\\t\\t\" + roster[4])\n",
    "\n",
    "#Remove an injured player\n",
    "injured_player = roster.pop(2)\n",
    "print(\"\\nOh no, \" + injured_player + \" is injured.\")\n",
    "\n",
    "roster_length = len(roster)\n",
    "print(\"Your roster only has \" + str(roster_length) + \" players.\")\n",
    "\n",
    "#Add a new player\n",
    "added_player = input(\"Who will take \" + injured_player + \"'s spot: \").title()\n",
    "roster.insert(2, added_player)\n",
    "\n",
    "#Display roster\n",
    "print(\"\\n\\tYour starting 5 for the upcoming basketball season\")\n",
    "print(\"\\t\\tPoint Guard:\\t\\t\" + roster[0])\n",
    "print(\"\\t\\tShooting Guard:\\t\\t\" + roster[1])\n",
    "print(\"\\t\\tSmall Forward:\\t\\t\" + roster[2])\n",
    "print(\"\\t\\tPower Forward:\\t\\t\" + roster[3])\n",
    "print(\"\\t\\tCenter:\\t\\t\\t\" + roster[4])\n",
    "\n",
    "print(\"\\nGood luck \" + roster[2] + \" you will do great!\")\n",
    "roster_length = len(roster)\n",
    "print(\"Your roster now has \" + str(roster_length) + \" players.\")\n"
   ]
  },
  {
   "cell_type": "code",
   "execution_count": null,
   "metadata": {},
   "outputs": [],
   "source": []
  }
 ],
 "metadata": {
  "kernelspec": {
   "display_name": "Python 3",
   "language": "python",
   "name": "python3"
  },
  "language_info": {
   "codemirror_mode": {
    "name": "ipython",
    "version": 3
   },
   "file_extension": ".py",
   "mimetype": "text/x-python",
   "name": "python",
   "nbconvert_exporter": "python",
   "pygments_lexer": "ipython3",
   "version": "3.7.3"
  }
 },
 "nbformat": 4,
 "nbformat_minor": 4
}
