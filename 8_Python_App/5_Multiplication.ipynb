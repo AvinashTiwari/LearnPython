{
 "cells": [
  {
   "cell_type": "code",
   "execution_count": 1,
   "id": "under-console",
   "metadata": {},
   "outputs": [
    {
     "name": "stdout",
     "output_type": "stream",
     "text": [
      "Welcome to the Multiplication/Exponent Table Program\n"
     ]
    },
    {
     "name": "stdin",
     "output_type": "stream",
     "text": [
      "\n",
      "Hello, what is your name:  Aviansh\n",
      "What number would you like to work with:  2\n"
     ]
    },
    {
     "name": "stdout",
     "output_type": "stream",
     "text": [
      "\n",
      "Multiplication Table For 2.0\n",
      "\n",
      "\t 1.0 * 2.0 = 2.0\n",
      "\t 2.0 * 2.0 = 4.0\n",
      "\t 3.0 * 2.0 = 6.0\n",
      "\t 4.0 * 2.0 = 8.0\n",
      "\t 5.0 * 2.0 = 10.0\n",
      "\t 6.0 * 2.0 = 12.0\n",
      "\t 7.0 * 2.0 = 14.0\n",
      "\t 8.0 * 2.0 = 16.0\n",
      "\t 9.0 * 2.0 = 18.0\n",
      "\n",
      "Exponent Table For 2.0\n",
      "\n",
      "\t2.0 ** 1 = 2.0\n",
      "\t2.0 ** 2 = 4.0\n",
      "\t2.0 ** 3 = 8.0\n",
      "\t2.0 ** 4 = 16.0\n",
      "\t2.0 ** 5 = 32.0\n",
      "\t2.0 ** 6 = 64.0\n",
      "\t2.0 ** 7 = 128.0\n",
      "\t2.0 ** 8 = 256.0\n",
      "\t2.0 ** 9 = 512.0\n",
      "\n",
      "Aviansh, Math is cool!\n",
      "\taviansh, math is cool!\n",
      "\t\tAviansh, Math Is Cool!\n",
      "\t\t\tAVIANSH, MATH IS COOL!\n"
     ]
    }
   ],
   "source": [
    "#Basic Data Types Challenge 5:  Multiplication/Exponent Table Program\n",
    "\n",
    "print(\"Welcome to the Multiplication/Exponent Table Program\")\n",
    "\n",
    "#Gather user input\n",
    "name = input(\"\\nHello, what is your name: \").title().strip()\n",
    "num = float(input(\"What number would you like to work with: \"))\n",
    "message = name + \", Math is cool!\"\n",
    "\n",
    "#Multiplication table\n",
    "print(\"\\nMultiplication Table For \" + str(num))\n",
    "print(\"\\n\\t 1.0 * \" + str(num) + \" = \" + str(round(1*num, 4))) \n",
    "print(\"\\t 2.0 * \" + str(num) + \" = \" + str(round(2*num, 4)))\n",
    "print(\"\\t 3.0 * \" + str(num) + \" = \" + str(round(3*num, 4)))\n",
    "print(\"\\t 4.0 * \" + str(num) + \" = \" + str(round(4*num, 4)))\n",
    "print(\"\\t 5.0 * \" + str(num) + \" = \" + str(round(5*num, 4)))\n",
    "print(\"\\t 6.0 * \" + str(num) + \" = \" + str(round(6*num, 4)))\n",
    "print(\"\\t 7.0 * \" + str(num) + \" = \" + str(round(7*num, 4)))\n",
    "print(\"\\t 8.0 * \" + str(num) + \" = \" + str(round(8*num, 4)))\n",
    "print(\"\\t 9.0 * \" + str(num) + \" = \" + str(round(9*num, 4)))\n",
    "\n",
    "#Exponent table\n",
    "print(\"\\nExponent Table For \" + str(num))\n",
    "print(\"\\n\\t\" + str(num) + \" ** 1 = \" + str(round(num**1, 4)))\n",
    "print(\"\\t\" + str(num) + \" ** 2 = \" + str(round(num**2, 4)))\n",
    "print(\"\\t\" + str(num) + \" ** 3 = \" + str(round(num**3, 4)))\n",
    "print(\"\\t\" + str(num) + \" ** 4 = \" + str(round(num**4, 4)))\n",
    "print(\"\\t\" + str(num) + \" ** 5 = \" + str(round(num**5, 4)))\n",
    "print(\"\\t\" + str(num) + \" ** 6 = \" + str(round(num**6, 4)))\n",
    "print(\"\\t\" + str(num) + \" ** 7 = \" + str(round(num**7, 4)))\n",
    "print(\"\\t\" + str(num) + \" ** 8 = \" + str(round(num**8, 4)))\n",
    "print(\"\\t\" + str(num) + \" ** 9 = \" + str(round(num**9, 4)))\n",
    "\n",
    "#Math is cool!\n",
    "print(\"\\n\" + message)\n",
    "print(\"\\t\" + message.lower())\n",
    "print(\"\\t\\t\" + message.title())\n",
    "print(\"\\t\\t\\t\" + message.upper())\n"
   ]
  },
  {
   "cell_type": "code",
   "execution_count": null,
   "id": "smoking-breakdown",
   "metadata": {},
   "outputs": [],
   "source": []
  }
 ],
 "metadata": {
  "kernelspec": {
   "display_name": "Python 3",
   "language": "python",
   "name": "python3"
  },
  "language_info": {
   "codemirror_mode": {
    "name": "ipython",
    "version": 3
   },
   "file_extension": ".py",
   "mimetype": "text/x-python",
   "name": "python",
   "nbconvert_exporter": "python",
   "pygments_lexer": "ipython3",
   "version": "3.7.9"
  }
 },
 "nbformat": 4,
 "nbformat_minor": 5
}
