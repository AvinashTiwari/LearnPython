{
 "cells": [
  {
   "cell_type": "code",
   "execution_count": 1,
   "metadata": {},
   "outputs": [
    {
     "name": "stdout",
     "output_type": "stream",
     "text": [
      "Welcome to the Favorite Teachers Program\n"
     ]
    },
    {
     "name": "stdin",
     "output_type": "stream",
     "text": [
      "\n",
      "Who is your first favorite teacher:  a\n",
      "Who is your second favorite teacher:  b\n",
      "Who is your third favorite teacher:  c\n",
      "Who is your fourth favorite teacher:  d\n"
     ]
    },
    {
     "name": "stdout",
     "output_type": "stream",
     "text": [
      "\n",
      "Your favorite teachers ranked are: ['A', 'B', 'C', 'D']\n",
      "Your favorite teachers alphabetically are: ['A', 'B', 'C', 'D']\n",
      "Your favorite teachers in reverse alphabetical order are: ['D', 'C', 'B', 'A']\n",
      "\n",
      "Your top two teachers are: A and B.\n",
      "Your next two favorite teachers are: C and D.\n",
      "Your last favorite teacher is: D.\n",
      "You have a total of 4 favorite teachers.\n"
     ]
    },
    {
     "name": "stdin",
     "output_type": "stream",
     "text": [
      "\n",
      "Oops, A is no longer your first favorite teacher.  Who is your new FAVORITE teacher:  d\n"
     ]
    },
    {
     "name": "stdout",
     "output_type": "stream",
     "text": [
      "\n",
      "Your favorite teachers ranked are: ['D', 'A', 'B', 'C', 'D']\n",
      "Your favorite teachers alphabetically are: ['A', 'B', 'C', 'D', 'D']\n",
      "Your favorite teachers in reverse alphabetical order are: ['D', 'D', 'C', 'B', 'A']\n",
      "\n",
      "Your top two teachers are: D and A.\n",
      "Your next two favorite teachers are: B and C.\n",
      "Your last favorite teacher is: D.\n",
      "You have a total of 5 favorite teachers.\n"
     ]
    },
    {
     "name": "stdin",
     "output_type": "stream",
     "text": [
      "\n",
      "You've decided you no longer like a teacher.  Which teacher would you like to remove from your list:  d\n"
     ]
    },
    {
     "name": "stdout",
     "output_type": "stream",
     "text": [
      "\n",
      "Your favorite teachers ranked are: ['A', 'B', 'C', 'D']\n",
      "Your favorite teachers alphabetically are: ['A', 'B', 'C', 'D']\n",
      "Your favorite teachers in reverse alphabetical order are: ['D', 'C', 'B', 'A']\n",
      "\n",
      "Your top two teachers are: A and B.\n",
      "Your next two favorite teachers are: C and D.\n",
      "Your last favorite teacher is: D.\n",
      "You have a total of 4 favorite teachers.\n"
     ]
    }
   ],
   "source": [
    "#Lists Challenge 10:  Favorite Teachers Program\n",
    "\n",
    "print(\"Welcome to the Favorite Teachers Program\")\n",
    "fav_teachers = []\n",
    "\n",
    "#Get user input\n",
    "fav_teachers.append(input(\"\\nWho is your first favorite teacher: \").title())\n",
    "fav_teachers.append(input(\"Who is your second favorite teacher: \").title())\n",
    "fav_teachers.append(input(\"Who is your third favorite teacher: \").title())\n",
    "fav_teachers.append(input(\"Who is your fourth favorite teacher: \").title())\n",
    "\n",
    "#Summary of list\n",
    "print(\"\\nYour favorite teachers ranked are: \" + str(fav_teachers))\n",
    "print(\"Your favorite teachers alphabetically are: \" + str(sorted(fav_teachers)))\n",
    "print(\"Your favorite teachers in reverse alphabetical order are: \" + str(sorted(fav_teachers, reverse=True)))\n",
    "print(\"\\nYour top two teachers are: \" + fav_teachers[0] + \" and \" + fav_teachers[1] + \".\")\n",
    "print(\"Your next two favorite teachers are: \" + fav_teachers[2] + \" and \" + fav_teachers[3] + \".\")\n",
    "print(\"Your last favorite teacher is: \" + fav_teachers[-1] + \".\")\n",
    "print(\"You have a total of \" + str(len(fav_teachers)) + \" favorite teachers.\")\n",
    "\n",
    "#Insert a new favorite teacher\n",
    "fav_teachers.insert(0, input(\"\\nOops, \" + fav_teachers[0] + \" is no longer your first favorite teacher.  Who is your new FAVORITE teacher: \").title())\n",
    "\n",
    "#Summary of list\n",
    "print(\"\\nYour favorite teachers ranked are: \" + str(fav_teachers))\n",
    "print(\"Your favorite teachers alphabetically are: \" + str(sorted(fav_teachers)))\n",
    "print(\"Your favorite teachers in reverse alphabetical order are: \" + str(sorted(fav_teachers, reverse=True)))\n",
    "print(\"\\nYour top two teachers are: \" + fav_teachers[0] + \" and \" + fav_teachers[1] + \".\")\n",
    "print(\"Your next two favorite teachers are: \" + fav_teachers[2] + \" and \" + fav_teachers[3] + \".\")\n",
    "print(\"Your last favorite teacher is: \" + fav_teachers[-1] + \".\")\n",
    "print(\"You have a total of \" + str(len(fav_teachers)) + \" favorite teachers.\")\n",
    "\n",
    "#Remove a specific teacher\n",
    "fav_teachers.remove(input(\"\\nYou've decided you no longer like a teacher.  Which teacher would you like to remove from your list: \").title())\n",
    "\n",
    "#Summary of list\n",
    "print(\"\\nYour favorite teachers ranked are: \" + str(fav_teachers))\n",
    "print(\"Your favorite teachers alphabetically are: \" + str(sorted(fav_teachers)))\n",
    "print(\"Your favorite teachers in reverse alphabetical order are: \" + str(sorted(fav_teachers, reverse=True)))\n",
    "print(\"\\nYour top two teachers are: \" + fav_teachers[0] + \" and \" + fav_teachers[1] + \".\")\n",
    "print(\"Your next two favorite teachers are: \" + fav_teachers[2] + \" and \" + fav_teachers[3] + \".\")\n",
    "print(\"Your last favorite teacher is: \" + fav_teachers[-1] + \".\")\n",
    "print(\"You have a total of \" + str(len(fav_teachers)) + \" favorite teachers.\")\n"
   ]
  },
  {
   "cell_type": "code",
   "execution_count": null,
   "metadata": {},
   "outputs": [],
   "source": []
  },
  {
   "cell_type": "code",
   "execution_count": null,
   "metadata": {},
   "outputs": [],
   "source": []
  }
 ],
 "metadata": {
  "kernelspec": {
   "display_name": "Python 3",
   "language": "python",
   "name": "python3"
  },
  "language_info": {
   "codemirror_mode": {
    "name": "ipython",
    "version": 3
   },
   "file_extension": ".py",
   "mimetype": "text/x-python",
   "name": "python",
   "nbconvert_exporter": "python",
   "pygments_lexer": "ipython3",
   "version": "3.7.3"
  }
 },
 "nbformat": 4,
 "nbformat_minor": 4
}
