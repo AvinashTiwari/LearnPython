{
 "cells": [
  {
   "cell_type": "code",
   "execution_count": 1,
   "metadata": {},
   "outputs": [
    {
     "name": "stdout",
     "output_type": "stream",
     "text": [
      "Welcome to the Quadratic Equation Solver App\n",
      "\n",
      "A quadratic equation is of the form ax^2 + bx + c = 0\n",
      "Your solutions can be real or complex numbers.\n",
      "A complex number has two parts:  a + bj\n",
      "Where a is the real portion and bj is the imaginary portion.\n"
     ]
    },
    {
     "name": "stdin",
     "output_type": "stream",
     "text": [
      "\n",
      "How many equations would you like to solve today:  2\n"
     ]
    },
    {
     "name": "stdout",
     "output_type": "stream",
     "text": [
      "\n",
      "Solving equation #1\n",
      "--------------------------------------------------\n"
     ]
    },
    {
     "name": "stdin",
     "output_type": "stream",
     "text": [
      "\n",
      "Please enter your value of a (coefficient of x^2):  3\n",
      "Please enter your value of b (coefficient of x):  2\n",
      "Please enter your value of c (coefficient):  1\n"
     ]
    },
    {
     "name": "stdout",
     "output_type": "stream",
     "text": [
      "\n",
      "The solutions to 3.0x^2 + 2.0x + 1.0 = 0 are: \n",
      "\n",
      "\tx1 = (-0.3333333333333333+0.47140452079103173j)\n",
      "\tx2 = (-0.3333333333333333-0.47140452079103173j)\n",
      "\n",
      "Solving equation #2\n",
      "--------------------------------------------------\n"
     ]
    },
    {
     "name": "stdin",
     "output_type": "stream",
     "text": [
      "\n",
      "Please enter your value of a (coefficient of x^2):  2\n",
      "Please enter your value of b (coefficient of x):  2\n",
      "Please enter your value of c (coefficient):  2\n"
     ]
    },
    {
     "name": "stdout",
     "output_type": "stream",
     "text": [
      "\n",
      "The solutions to 2.0x^2 + 2.0x + 2.0 = 0 are: \n",
      "\n",
      "\tx1 = (-0.5+0.8660254037844386j)\n",
      "\tx2 = (-0.5-0.8660254037844386j)\n",
      "\n",
      "Thank you for using the Quadratic Equation Solver App.  Goodbye.\n"
     ]
    }
   ],
   "source": [
    "#For Loops Challenge 12:  Quadratic Equation Solver App\n",
    "import cmath\n",
    "\n",
    "#Print Welcome Information\n",
    "print(\"Welcome to the Quadratic Equation Solver App\")\n",
    "print(\"\\nA quadratic equation is of the form ax^2 + bx + c = 0\")\n",
    "print(\"Your solutions can be real or complex numbers.\")\n",
    "print(\"A complex number has two parts:  a + bj\")\n",
    "print(\"Where a is the real portion and bj is the imaginary portion.\")\n",
    "\n",
    "#Get user input\n",
    "eq_number = int(input(\"\\nHow many equations would you like to solve today: \"))\n",
    "\n",
    "#Loop through and solve each equation\n",
    "for i in range(eq_number):\n",
    "    print(\"\\nSolving equation #\" + str(i+1))\n",
    "    print(\"--------------------------------------------------\")\n",
    "    a = float(input(\"\\nPlease enter your value of a (coefficient of x^2): \"))\n",
    "    b = float(input(\"Please enter your value of b (coefficient of x): \"))\n",
    "    c = float(input(\"Please enter your value of c (coefficient): \"))\n",
    "\n",
    "    #Solving the quadratic formula\n",
    "    x1 = (-b + cmath.sqrt(b**2 - 4*a*c))/(2*a)\n",
    "    x2 = (-b - cmath.sqrt(b**2 - 4*a*c))/(2*a)\n",
    "\n",
    "    print(\"\\nThe solutions to \" + str(a) + \"x^2 + \" + str(b) + \"x + \" + str(c) + \" = 0 are: \")\n",
    "    print(\"\\n\\tx1 = \" + str(x1))\n",
    "    print(\"\\tx2 = \" + str(x2))\n",
    "\n",
    "print(\"\\nThank you for using the Quadratic Equation Solver App.  Goodbye.\")\n"
   ]
  },
  {
   "cell_type": "code",
   "execution_count": null,
   "metadata": {},
   "outputs": [],
   "source": []
  }
 ],
 "metadata": {
  "kernelspec": {
   "display_name": "Python 3",
   "language": "python",
   "name": "python3"
  },
  "language_info": {
   "codemirror_mode": {
    "name": "ipython",
    "version": 3
   },
   "file_extension": ".py",
   "mimetype": "text/x-python",
   "name": "python",
   "nbconvert_exporter": "python",
   "pygments_lexer": "ipython3",
   "version": "3.7.3"
  }
 },
 "nbformat": 4,
 "nbformat_minor": 4
}
