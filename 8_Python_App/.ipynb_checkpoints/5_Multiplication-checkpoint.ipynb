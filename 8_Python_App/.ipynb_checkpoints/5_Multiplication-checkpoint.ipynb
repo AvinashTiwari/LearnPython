{
 "cells": [
  {
   "cell_type": "code",
   "execution_count": null,
   "id": "demanding-weapon",
   "metadata": {},
   "outputs": [],
   "source": [
    "#Basic Data Types Challenge 5:  Multiplication/Exponent Table Program\n",
    "\n",
    "print(\"Welcome to the Multiplication/Exponent Table Program\")\n",
    "\n",
    "#Gather user input\n",
    "name = input(\"\\nHello, what is your name: \").title().strip()\n",
    "num = float(input(\"What number would you like to work with: \"))\n",
    "message = name + \", Math is cool!\"\n",
    "\n",
    "#Multiplication table\n",
    "print(\"\\nMultiplication Table For \" + str(num))\n",
    "print(\"\\n\\t 1.0 * \" + str(num) + \" = \" + str(round(1*num, 4))) \n",
    "print(\"\\t 2.0 * \" + str(num) + \" = \" + str(round(2*num, 4)))\n",
    "print(\"\\t 3.0 * \" + str(num) + \" = \" + str(round(3*num, 4)))\n",
    "print(\"\\t 4.0 * \" + str(num) + \" = \" + str(round(4*num, 4)))\n",
    "print(\"\\t 5.0 * \" + str(num) + \" = \" + str(round(5*num, 4)))\n",
    "print(\"\\t 6.0 * \" + str(num) + \" = \" + str(round(6*num, 4)))\n",
    "print(\"\\t 7.0 * \" + str(num) + \" = \" + str(round(7*num, 4)))\n",
    "print(\"\\t 8.0 * \" + str(num) + \" = \" + str(round(8*num, 4)))\n",
    "print(\"\\t 9.0 * \" + str(num) + \" = \" + str(round(9*num, 4)))\n",
    "\n",
    "#Exponent table\n",
    "print(\"\\nExponent Table For \" + str(num))\n",
    "print(\"\\n\\t\" + str(num) + \" ** 1 = \" + str(round(num**1, 4)))\n",
    "print(\"\\t\" + str(num) + \" ** 2 = \" + str(round(num**2, 4)))\n",
    "print(\"\\t\" + str(num) + \" ** 3 = \" + str(round(num**3, 4)))\n",
    "print(\"\\t\" + str(num) + \" ** 4 = \" + str(round(num**4, 4)))\n",
    "print(\"\\t\" + str(num) + \" ** 5 = \" + str(round(num**5, 4)))\n",
    "print(\"\\t\" + str(num) + \" ** 6 = \" + str(round(num**6, 4)))\n",
    "print(\"\\t\" + str(num) + \" ** 7 = \" + str(round(num**7, 4)))\n",
    "print(\"\\t\" + str(num) + \" ** 8 = \" + str(round(num**8, 4)))\n",
    "print(\"\\t\" + str(num) + \" ** 9 = \" + str(round(num**9, 4)))\n",
    "\n",
    "#Math is cool!\n",
    "print(\"\\n\" + message)\n",
    "print(\"\\t\" + message.lower())\n",
    "print(\"\\t\\t\" + message.title())\n",
    "print(\"\\t\\t\\t\" + message.upper())\n"
   ]
  },
  {
   "cell_type": "code",
   "execution_count": null,
   "id": "generous-contributor",
   "metadata": {},
   "outputs": [],
   "source": []
  },
  {
   "cell_type": "code",
   "execution_count": null,
   "id": "buried-astrology",
   "metadata": {},
   "outputs": [],
   "source": []
  }
 ],
 "metadata": {
  "kernelspec": {
   "display_name": "",
   "name": ""
  },
  "language_info": {
   "name": ""
  }
 },
 "nbformat": 4,
 "nbformat_minor": 5
}
