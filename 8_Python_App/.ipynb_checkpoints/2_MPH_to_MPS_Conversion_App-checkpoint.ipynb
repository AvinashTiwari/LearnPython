{
 "cells": [
  {
   "cell_type": "code",
   "execution_count": 1,
   "metadata": {},
   "outputs": [
    {
     "name": "stdout",
     "output_type": "stream",
     "text": [
      "Welcome to the MPH to MPS Conversion App\n"
     ]
    },
    {
     "name": "stdin",
     "output_type": "stream",
     "text": [
      "\n",
      "What is your speed in miles per hour:  128.20\n"
     ]
    },
    {
     "name": "stdout",
     "output_type": "stream",
     "text": [
      "Your speed in meters per second is 57.36.\n"
     ]
    }
   ],
   "source": [
    "#Basic Data Types Challenge 2:  MPH to MPS Conversion App\n",
    "\n",
    "print(\"Welcome to the MPH to MPS Conversion App\")\n",
    "\n",
    "#Gather user input\n",
    "mph = float(input(\"\\nWhat is your speed in miles per hour: \"))\n",
    "\n",
    "#Convert to mps\n",
    "mps = mph*0.4474\n",
    "mps = round(mps, 2)\n",
    "\n",
    "print(\"Your speed in meters per second is \" + str(mps) + \".\")\n"
   ]
  },
  {
   "cell_type": "code",
   "execution_count": null,
   "metadata": {},
   "outputs": [],
   "source": []
  }
 ],
 "metadata": {
  "kernelspec": {
   "display_name": "Python 3",
   "language": "python",
   "name": "python3"
  },
  "language_info": {
   "codemirror_mode": {
    "name": "ipython",
    "version": 3
   },
   "file_extension": ".py",
   "mimetype": "text/x-python",
   "name": "python",
   "nbconvert_exporter": "python",
   "pygments_lexer": "ipython3",
   "version": "3.7.3"
  }
 },
 "nbformat": 4,
 "nbformat_minor": 4
}
