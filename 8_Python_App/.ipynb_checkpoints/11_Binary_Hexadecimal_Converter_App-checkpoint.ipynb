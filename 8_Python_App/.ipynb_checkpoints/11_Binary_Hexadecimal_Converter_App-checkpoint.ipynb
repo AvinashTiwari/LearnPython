{
 "cells": [
  {
   "cell_type": "code",
   "execution_count": null,
   "metadata": {},
   "outputs": [],
   "source": [
    "#For Loops Challenge 11:  Binary Hexadecimal Converter App\n",
    "\n",
    "print(\"Welcome to the Binary/Hexadecimal Converter App\")\n",
    "\n",
    "#Get user input and generate lists.\n",
    "max_value = int(input(\"\\nCompute binary and hexadecimal values up to the following decimal number: \"))\n",
    "decimal = list(range(1, max_value+1))\n",
    "binary = []\n",
    "hexadecimal = []\n",
    "for num in decimal:\n",
    "    binary.append(bin(num))\n",
    "    hexadecimal.append(hex(num))\n",
    "print(\"Generating lists...Complete!\")\n",
    "\n",
    "#Get slicing index from user.\n",
    "print(\"\\nUsing slices, we will now show a portion of each list.\")\n",
    "lower_range = int(input(\"What decimal number would you like to start at: \"))\n",
    "upper_range = int(input(\"What decimal number would you like to stop at: \"))\n",
    "\n",
    "#Slice through each list individually\n",
    "print(\"\\nDecimal values from \" + str(lower_range) + \" to \" + str(upper_range) + \":\")\n",
    "for num in decimal[lower_range-1:upper_range]:\n",
    "    print(num)\n",
    "\n",
    "print(\"\\nBinary values from \" + str(lower_range) + \" to \" + str(upper_range) + \":\")\n",
    "for num in binary[lower_range-1:upper_range]:\n",
    "    print(num)\n",
    "\n",
    "print(\"\\nHexadecimal values from \" + str(lower_range) + \" to \" + str(upper_range) + \":\")\n",
    "for num in hexadecimal[lower_range-1:upper_range]:\n",
    "    print(num)\n",
    "\n",
    "#Output the whole list to the screen\n",
    "input(\"\\nPress Enter to see all values from 1 to \" + str(max_value) + \".\")\n",
    "print(\"Decimal----Binary----Hexadecimal\")\n",
    "print(\"----------------------------------------------\")\n",
    "for d, b, h in zip(decimal, binary, hexadecimal):\n",
    "    print(str(d) + \"----\" + str(b) + \"----\" + str(h))\n"
   ]
  }
 ],
 "metadata": {
  "kernelspec": {
   "display_name": "Python 3",
   "language": "python",
   "name": "python3"
  },
  "language_info": {
   "codemirror_mode": {
    "name": "ipython",
    "version": 3
   },
   "file_extension": ".py",
   "mimetype": "text/x-python",
   "name": "python",
   "nbconvert_exporter": "python",
   "pygments_lexer": "ipython3",
   "version": "3.7.3"
  }
 },
 "nbformat": 4,
 "nbformat_minor": 4
}
