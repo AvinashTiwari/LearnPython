{
 "cells": [
  {
   "cell_type": "code",
   "execution_count": 1,
   "metadata": {},
   "outputs": [
    {
     "name": "stdout",
     "output_type": "stream",
     "text": [
      "Welcome to the Right Triangle Solver App\n"
     ]
    },
    {
     "name": "stdin",
     "output_type": "stream",
     "text": [
      "\n",
      "What is the first leg of the triangle:  12\n",
      "What is the second leg of the triangle:  22\n"
     ]
    },
    {
     "name": "stdout",
     "output_type": "stream",
     "text": [
      "\n",
      "For a triangle with legs of 12.0 and 22.0 the hypotenuse is 25.06.\n",
      "For a triangle with legs of 12.0 and 22.0 the area is 132.0.\n"
     ]
    }
   ],
   "source": [
    "#Basic Data Types Challenge 4:  Right Triangle Solver App\n",
    "import math\n",
    "\n",
    "print(\"Welcome to the Right Triangle Solver App\")\n",
    "\n",
    "#Get user input\n",
    "side_a = float(input(\"\\nWhat is the first leg of the triangle: \"))\n",
    "side_b = float(input(\"What is the second leg of the triangle: \"))\n",
    "\n",
    "#Calculations\n",
    "side_c = math.sqrt(side_a**2 + side_b**2)\n",
    "side_c = round(side_c, 3)\n",
    "\n",
    "area = 0.5*side_a*side_b\n",
    "area = round(area, 3)\n",
    "\n",
    "\n",
    "#print(f\"\\nFor a triangle with legs of {side_a} and {side_b} the hypotenuse is {side_c}.\")\n",
    "#Summary\n",
    "print(\"\\nFor a triangle with legs of \" + str(side_a) + \" and \" + str(side_b) + \" the hypotenuse is \" + str(side_c) + \".\")\n",
    "print(\"For a triangle with legs of \" + str(side_a) + \" and \" + str(side_b) + \" the area is \" + str(area) + \".\")\n",
    "\n"
   ]
  },
  {
   "cell_type": "markdown",
   "metadata": {},
   "source": [
    "## "
   ]
  }
 ],
 "metadata": {
  "kernelspec": {
   "display_name": "Python 3",
   "language": "python",
   "name": "python3"
  },
  "language_info": {
   "codemirror_mode": {
    "name": "ipython",
    "version": 3
   },
   "file_extension": ".py",
   "mimetype": "text/x-python",
   "name": "python",
   "nbconvert_exporter": "python",
   "pygments_lexer": "ipython3",
   "version": "3.7.3"
  }
 },
 "nbformat": 4,
 "nbformat_minor": 4
}
