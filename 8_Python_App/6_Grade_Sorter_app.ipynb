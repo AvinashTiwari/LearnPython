{
 "cells": [
  {
   "cell_type": "code",
   "execution_count": 1,
   "metadata": {},
   "outputs": [
    {
     "name": "stdout",
     "output_type": "stream",
     "text": [
      "Welcome to the Grade Sorter App\n"
     ]
    },
    {
     "name": "stdin",
     "output_type": "stream",
     "text": [
      "\n",
      "What is your first grade (0-100):  86\n",
      "What is your second grade (0-100):  96\n",
      "What is your third grade (0-100):  99\n",
      "What is your fourth grade (0-100):  20\n"
     ]
    },
    {
     "name": "stdout",
     "output_type": "stream",
     "text": [
      "\n",
      "Your grades are: [86, 96, 99, 20]\n",
      "\n",
      "Your grades from highest to lowest are: [99, 96, 86, 20]\n",
      "\n",
      "The lowest two grades will now be dropped.\n",
      "Removed grade: 20\n",
      "Removed grade: 86\n",
      "\n",
      "Your remaining grades are: [99, 96]\n",
      "Nice work!  Your highest grade is 99.\n"
     ]
    }
   ],
   "source": [
    "#Lists Challenge 6:  Grade Sorter App\n",
    "\n",
    "print(\"Welcome to the Grade Sorter App\")\n",
    "\n",
    "#Initialize list and get user input\n",
    "grades = []\n",
    "grade = int(input(\"\\nWhat is your first grade (0-100): \"))\n",
    "grades.append(grade)\n",
    "grade = int(input(\"What is your second grade (0-100): \"))\n",
    "grades.append(grade)\n",
    "grade = int(input(\"What is your third grade (0-100): \"))\n",
    "grades.append(grade)\n",
    "grade = int(input(\"What is your fourth grade (0-100): \"))\n",
    "grades.append(grade)\n",
    "\n",
    "print(\"\\nYour grades are: \" + str(grades))\n",
    "\n",
    "#Sort the list from highest to lowest\n",
    "grades.sort(reverse=True)\n",
    "print(\"\\nYour grades from highest to lowest are: \" + str(grades))\n",
    "\n",
    "#Removing the lowest two grades.\n",
    "print(\"\\nThe lowest two grades will now be dropped.\")\n",
    "removed_grade = grades.pop()\n",
    "print(\"Removed grade: \" + str(removed_grade))\n",
    "removed_grade = grades.pop()\n",
    "print(\"Removed grade: \" + str(removed_grade))\n",
    "\n",
    "#Recap remaining grades\n",
    "print(\"\\nYour remaining grades are: \" + str(grades))\n",
    "print(\"Nice work!  Your highest grade is \" + str(grades[0]) + \".\")\n"
   ]
  },
  {
   "cell_type": "code",
   "execution_count": null,
   "metadata": {},
   "outputs": [],
   "source": []
  }
 ],
 "metadata": {
  "kernelspec": {
   "display_name": "Python 3",
   "language": "python",
   "name": "python3"
  },
  "language_info": {
   "codemirror_mode": {
    "name": "ipython",
    "version": 3
   },
   "file_extension": ".py",
   "mimetype": "text/x-python",
   "name": "python",
   "nbconvert_exporter": "python",
   "pygments_lexer": "ipython3",
   "version": "3.7.3"
  }
 },
 "nbformat": 4,
 "nbformat_minor": 4
}
